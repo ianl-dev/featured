{
 "cells": [
  {
   "cell_type": "markdown",
   "metadata": {},
   "source": [
    "# My Go Notebook\n",
    "11/1 - Finished reading Intro, Chapter 1-2\n",
    "11/5 - Started on Chapter 3, built digo folder\n",
    "        1) Player class in gotypes.py\n",
    "        2) Tuple representation of Point class in gotypes.py\n",
    "11/7 - Continued on Chapter 3\n",
    "        1) enum to represent players\n",
    "        2) other method to switch stone color after one turn "
   ]
  }
 ],
 "metadata": {
  "kernelspec": {
   "display_name": "Python 3",
   "language": "python",
   "name": "python3"
  },
  "language_info": {
   "codemirror_mode": {
    "name": "ipython",
    "version": 3
   },
   "file_extension": ".py",
   "mimetype": "text/x-python",
   "name": "python",
   "nbconvert_exporter": "python",
   "pygments_lexer": "ipython3",
   "version": "3.7.3"
  }
 },
 "nbformat": 4,
 "nbformat_minor": 2
}
